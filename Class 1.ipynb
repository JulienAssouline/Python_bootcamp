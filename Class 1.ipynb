{
 "cells": [
  {
   "cell_type": "markdown",
   "metadata": {},
   "source": [
    "### Data Types"
   ]
  },
  {
   "cell_type": "code",
   "execution_count": 3,
   "metadata": {},
   "outputs": [
    {
     "data": {
      "text/plain": [
       "int"
      ]
     },
     "execution_count": 3,
     "metadata": {},
     "output_type": "execute_result"
    }
   ],
   "source": [
    "#The code to output the type of data for (1) has already been filled in for you as an example.\n",
    "\n",
    "type(1)"
   ]
  },
  {
   "cell_type": "code",
   "execution_count": 3,
   "metadata": {},
   "outputs": [
    {
     "data": {
      "text/plain": [
       "str"
      ]
     },
     "execution_count": 3,
     "metadata": {},
     "output_type": "execute_result"
    }
   ],
   "source": [
    "# Please edit the following lines of code so that they would output the types of data for `True`, `3.14`, and `\"A string\"`.\n",
    "\n",
    "\n",
    "type(\"A string\")"
   ]
  },
  {
   "cell_type": "code",
   "execution_count": 1,
   "metadata": {},
   "outputs": [
    {
     "data": {
      "text/plain": [
       "bool"
      ]
     },
     "execution_count": 1,
     "metadata": {},
     "output_type": "execute_result"
    }
   ],
   "source": [
    "type(True)"
   ]
  },
  {
   "cell_type": "code",
   "execution_count": 2,
   "metadata": {},
   "outputs": [
    {
     "data": {
      "text/plain": [
       "float"
      ]
     },
     "execution_count": 2,
     "metadata": {},
     "output_type": "execute_result"
    }
   ],
   "source": [
    "type(3.14)"
   ]
  },
  {
   "cell_type": "code",
   "execution_count": 4,
   "metadata": {
    "collapsed": true
   },
   "outputs": [],
   "source": [
    "#Find the Data type of 3 and print it."
   ]
  },
  {
   "cell_type": "markdown",
   "metadata": {},
   "source": [
    "### Variables"
   ]
  },
  {
   "cell_type": "code",
   "execution_count": 10,
   "metadata": {
    "collapsed": true
   },
   "outputs": [],
   "source": [
    "# In the code below, the variable `num1` has been assigned an integer value of 10.\n",
    "\n",
    "num1 = 10"
   ]
  },
  {
   "cell_type": "code",
   "execution_count": 11,
   "metadata": {},
   "outputs": [
    {
     "data": {
      "text/plain": [
       "10"
      ]
     },
     "execution_count": 11,
     "metadata": {},
     "output_type": "execute_result"
    }
   ],
   "source": [
    "num1"
   ]
  },
  {
   "cell_type": "code",
   "execution_count": 7,
   "metadata": {
    "collapsed": true
   },
   "outputs": [],
   "source": [
    "# Create variable `num2`by assigning it a value of 30.\n"
   ]
  },
  {
   "cell_type": "markdown",
   "metadata": {},
   "source": [
    "### Math Operators"
   ]
  },
  {
   "cell_type": "code",
   "execution_count": 8,
   "metadata": {
    "collapsed": true
   },
   "outputs": [],
   "source": [
    "# Print the output of the sum of `num1` and `num2`.\n"
   ]
  },
  {
   "cell_type": "code",
   "execution_count": 9,
   "metadata": {
    "collapsed": true
   },
   "outputs": [],
   "source": [
    "# Create a new variable `sum123` whose value is the sum of  `num1`, `num2`, and `num3`.\n"
   ]
  },
  {
   "cell_type": "code",
   "execution_count": 10,
   "metadata": {
    "collapsed": true
   },
   "outputs": [],
   "source": [
    "# Print the output of (`num3`/`num1`+`sum123`).\n"
   ]
  },
  {
   "cell_type": "code",
   "execution_count": 12,
   "metadata": {
    "collapsed": true
   },
   "outputs": [],
   "source": [
    "#The string variables \"i\" and \"name\" have been defined for you.\n",
    "i = \"Hello\"\n",
    "name = \"Julien\""
   ]
  },
  {
   "cell_type": "code",
   "execution_count": 12,
   "metadata": {},
   "outputs": [
    {
     "data": {
      "text/plain": [
       "'Hello Julien'"
      ]
     },
     "execution_count": 12,
     "metadata": {},
     "output_type": "execute_result"
    }
   ],
   "source": [
    "#Print output \"Hello Julien\" in the line below by using the addition operator.\n",
    "\n",
    "i+ \" \" +name"
   ]
  },
  {
   "cell_type": "code",
   "execution_count": 15,
   "metadata": {
    "collapsed": true
   },
   "outputs": [],
   "source": [
    "#Boolean can only have one of two values. Either they are \"True\" or \"False\". Variables \"yes\" and \"no\" have been assigned boolean variables of \"True\" and \"False\", respectively.\n",
    "yes = True\n",
    "no = False"
   ]
  },
  {
   "cell_type": "markdown",
   "metadata": {},
   "source": [
    "### IF statments "
   ]
  },
  {
   "cell_type": "code",
   "execution_count": 16,
   "metadata": {},
   "outputs": [
    {
     "name": "stdout",
     "output_type": "stream",
     "text": [
      "Yessssss\n"
     ]
    }
   ],
   "source": [
    "#Boolean variables are generally used for conditional statements such as an if statement.The below lines of code uses boolean variables to determine whether or not the following functions will run.\n",
    "if yes:\n",
    "    print(\"Yessssss\")\n",
    "\n",
    "if yes == False:\n",
    "    print(\"noooooo\")"
   ]
  },
  {
   "cell_type": "code",
   "execution_count": 21,
   "metadata": {},
   "outputs": [
    {
     "name": "stdout",
     "output_type": "stream",
     "text": [
      "Three is greater than Two\n"
     ]
    }
   ],
   "source": [
    "# The below code is asking if 3 is greater than 2 and if so print \"Three is greater than Two\"\n",
    "if 3>2:\n",
    "    print(\"Three is greater than Two\")"
   ]
  },
  {
   "cell_type": "code",
   "execution_count": 25,
   "metadata": {
    "collapsed": true
   },
   "outputs": [],
   "source": [
    "# The below code is asking if 3 is less than 2 and if so print \"Three is less than Two\"\n",
    "if 3<2:\n",
    "    print(\"Three is less than Two\")"
   ]
  },
  {
   "cell_type": "code",
   "execution_count": 26,
   "metadata": {},
   "outputs": [
    {
     "name": "stdout",
     "output_type": "stream",
     "text": [
      "4 is not less than 3\n"
     ]
    }
   ],
   "source": [
    "# if else statments take a condition and if it is false it runs the else code\n",
    "\n",
    "if 4 < 3:\n",
    "    print(\"4 is less than 3\")\n",
    "else:\n",
    "    print(\"4 is not less than 3\")"
   ]
  },
  {
   "cell_type": "code",
   "execution_count": 27,
   "metadata": {},
   "outputs": [
    {
     "name": "stdout",
     "output_type": "stream",
     "text": [
      "1\n"
     ]
    }
   ],
   "source": [
    "# if else statments can also be used with math or anything really!\n",
    "\n",
    "if 4 < 3:\n",
    "    print(4 + 3)\n",
    "else:\n",
    "    print(4 - 3)"
   ]
  },
  {
   "cell_type": "code",
   "execution_count": null,
   "metadata": {
    "collapsed": true
   },
   "outputs": [],
   "source": [
    "# I was born in 1993. Create an if statment that determines if I can legally drink or not. "
   ]
  },
  {
   "cell_type": "markdown",
   "metadata": {},
   "source": [
    "### LISTS"
   ]
  },
  {
   "cell_type": "code",
   "execution_count": 30,
   "metadata": {},
   "outputs": [
    {
     "name": "stdout",
     "output_type": "stream",
     "text": [
      "1\n",
      "6\n",
      "[1, 2, 3, 4, 5, 6]\n",
      "[1, 2, 3]\n",
      "[4, 5, 6]\n"
     ]
    }
   ],
   "source": [
    "#Lists are a collection of data. The lists start at 0.\n",
    "\n",
    "integers = [1,2,3,4,5,6]\n",
    "print(integers[0])\n",
    "print(integers[5])\n",
    "\n",
    "print(integers[0:6])\n",
    "print(integers[:3])\n",
    "print(integers[3:])"
   ]
  },
  {
   "cell_type": "code",
   "execution_count": 33,
   "metadata": {},
   "outputs": [
    {
     "data": {
      "text/plain": [
       "['Andrew', 'Emily', 'Jake', True, 1, 0.6]"
      ]
     },
     "execution_count": 33,
     "metadata": {},
     "output_type": "execute_result"
    }
   ],
   "source": [
    "# lists can contain any type of data\n",
    "names = [\"Andrew\", \"Emily\", \"Jake\", True, 1, 0.6]\n",
    "names\n"
   ]
  },
  {
   "cell_type": "code",
   "execution_count": 34,
   "metadata": {},
   "outputs": [
    {
     "data": {
      "text/plain": [
       "5"
      ]
     },
     "execution_count": 34,
     "metadata": {},
     "output_type": "execute_result"
    }
   ],
   "source": [
    "integers[3] + integers[0]"
   ]
  },
  {
   "cell_type": "code",
   "execution_count": 35,
   "metadata": {},
   "outputs": [
    {
     "data": {
      "text/plain": [
       "10"
      ]
     },
     "execution_count": 35,
     "metadata": {},
     "output_type": "execute_result"
    }
   ],
   "source": [
    "intnam = [\"First\", 1, \"Second\", 2, \"Third\", 3, \"Fouth\", 4, \"Fifth\", 5]\n",
    "\n",
    "# finds length of a list\n",
    "len(intnam)\n"
   ]
  },
  {
   "cell_type": "code",
   "execution_count": 37,
   "metadata": {},
   "outputs": [
    {
     "data": {
      "text/plain": [
       "['Hello',\n",
       " 'Hello',\n",
       " 'First',\n",
       " 1,\n",
       " 'Second',\n",
       " 2,\n",
       " 'Third',\n",
       " 3,\n",
       " 'Fouth',\n",
       " 4,\n",
       " 'Fifth',\n",
       " 5,\n",
       " 'hello',\n",
       " 'hello']"
      ]
     },
     "execution_count": 37,
     "metadata": {},
     "output_type": "execute_result"
    }
   ],
   "source": [
    "# add value to end of a list\n",
    "intnam.append('hello')\n",
    "# add vaue to the start of a list\n",
    "intnam.insert(0, 'Hello')\n",
    "intnam"
   ]
  },
  {
   "cell_type": "code",
   "execution_count": null,
   "metadata": {
    "collapsed": true
   },
   "outputs": [],
   "source": [
    "# create your own list.\n",
    "\n",
    "# print the last element of the list\n",
    "\n",
    "# add the last element of the your list with the last element of the integers list.\n",
    "\n",
    "# how long is your list?"
   ]
  },
  {
   "cell_type": "markdown",
   "metadata": {},
   "source": [
    "### Dictionaries "
   ]
  },
  {
   "cell_type": "code",
   "execution_count": 38,
   "metadata": {},
   "outputs": [
    {
     "data": {
      "text/plain": [
       "{'age': 20, 'name': 'someone', 'siblings': 2.5, 'single': True}"
      ]
     },
     "execution_count": 38,
     "metadata": {},
     "output_type": "execute_result"
    }
   ],
   "source": [
    "# collection of \"data\" which is unordered, changeable and indexed. They have keys and values.\n",
    "person = { \"name\": \"someone\", \"age\": 20, \"single\": True, \"siblings\": 2.5}\n",
    "person"
   ]
  },
  {
   "cell_type": "code",
   "execution_count": 45,
   "metadata": {},
   "outputs": [
    {
     "data": {
      "text/plain": [
       "'someone'"
      ]
     },
     "execution_count": 45,
     "metadata": {},
     "output_type": "execute_result"
    }
   ],
   "source": [
    "thename = person[\"name\"]\n",
    "thename"
   ]
  },
  {
   "cell_type": "code",
   "execution_count": 49,
   "metadata": {},
   "outputs": [
    {
     "data": {
      "text/plain": [
       "20"
      ]
     },
     "execution_count": 49,
     "metadata": {},
     "output_type": "execute_result"
    }
   ],
   "source": [
    "person[\"age\"]"
   ]
  },
  {
   "cell_type": "code",
   "execution_count": 52,
   "metadata": {},
   "outputs": [
    {
     "data": {
      "text/plain": [
       "{'age': 20, 'name': 'someone', 'siblings': 1.3, 'single': True}"
      ]
     },
     "execution_count": 52,
     "metadata": {},
     "output_type": "execute_result"
    }
   ],
   "source": [
    "person[\"siblings\"] = 1.3\n",
    "person"
   ]
  },
  {
   "cell_type": "code",
   "execution_count": 54,
   "metadata": {},
   "outputs": [
    {
     "name": "stdout",
     "output_type": "stream",
     "text": [
      "Yes, 'model' is one of the keys in the thisdict dictionary\n"
     ]
    }
   ],
   "source": [
    "## you can also use dictionaries and lists in if statments. \n",
    "if \"siblings\" in person:\n",
    "    print(\"Yes, 'model' is one of the keys in the thisdict dictionary\")\n",
    "else:\n",
    "    print(\"no\")"
   ]
  },
  {
   "cell_type": "markdown",
   "metadata": {},
   "source": [
    "### Functions"
   ]
  },
  {
   "cell_type": "code",
   "execution_count": 67,
   "metadata": {},
   "outputs": [
    {
     "name": "stdout",
     "output_type": "stream",
     "text": [
      "{'name': 'someone', 'age': 20, 'single': True, 'siblings': 1.3}\n"
     ]
    }
   ],
   "source": [
    "# A function is a block of organized, reusable code that is used to perform a single, related action.\n",
    "print(person)"
   ]
  },
  {
   "cell_type": "markdown",
   "metadata": {},
   "source": [
    "### For Loops"
   ]
  },
  {
   "cell_type": "code",
   "execution_count": 5,
   "metadata": {
    "collapsed": true
   },
   "outputs": [],
   "source": [
    "years = [2001,2002,2003,2004,2005,2006,2007,2008,2009,2010,2011,2012,2013,2014,2015,2016,2017,2018]"
   ]
  },
  {
   "cell_type": "code",
   "execution_count": 8,
   "metadata": {},
   "outputs": [
    {
     "name": "stdout",
     "output_type": "stream",
     "text": [
      "2001\n",
      "2002\n",
      "2003\n",
      "2004\n",
      "2005\n",
      "2006\n",
      "2007\n",
      "2008\n",
      "2009\n",
      "2010\n",
      "2011\n",
      "2012\n",
      "2013\n",
      "2014\n",
      "2015\n",
      "2016\n",
      "2017\n",
      "2018\n"
     ]
    }
   ],
   "source": [
    "for i in years:\n",
    "    print(i)"
   ]
  },
  {
   "cell_type": "markdown",
   "metadata": {},
   "source": [
    "### Brief intro to pandas!! "
   ]
  },
  {
   "cell_type": "code",
   "execution_count": 56,
   "metadata": {
    "collapsed": true
   },
   "outputs": [],
   "source": [
    "import pandas as pd"
   ]
  },
  {
   "cell_type": "code",
   "execution_count": 58,
   "metadata": {},
   "outputs": [
    {
     "data": {
      "text/html": [
       "<div>\n",
       "<style>\n",
       "    .dataframe thead tr:only-child th {\n",
       "        text-align: right;\n",
       "    }\n",
       "\n",
       "    .dataframe thead th {\n",
       "        text-align: left;\n",
       "    }\n",
       "\n",
       "    .dataframe tbody tr th {\n",
       "        vertical-align: top;\n",
       "    }\n",
       "</style>\n",
       "<table border=\"1\" class=\"dataframe\">\n",
       "  <thead>\n",
       "    <tr style=\"text-align: right;\">\n",
       "      <th></th>\n",
       "      <th>year</th>\n",
       "      <th>country_origin_id</th>\n",
       "      <th>country_destination_id</th>\n",
       "      <th>hs92_product_id</th>\n",
       "      <th>export_val</th>\n",
       "      <th>export_val_pct</th>\n",
       "    </tr>\n",
       "  </thead>\n",
       "  <tbody>\n",
       "    <tr>\n",
       "      <th>0</th>\n",
       "      <td>1995</td>\n",
       "      <td>PRK</td>\n",
       "      <td>BFA</td>\n",
       "      <td>ALL</td>\n",
       "      <td>67177.77</td>\n",
       "      <td>0.00%</td>\n",
       "    </tr>\n",
       "    <tr>\n",
       "      <th>1</th>\n",
       "      <td>1995</td>\n",
       "      <td>PRK</td>\n",
       "      <td>CAF</td>\n",
       "      <td>ALL</td>\n",
       "      <td>514674.15</td>\n",
       "      <td>0.00%</td>\n",
       "    </tr>\n",
       "    <tr>\n",
       "      <th>2</th>\n",
       "      <td>1995</td>\n",
       "      <td>PRK</td>\n",
       "      <td>CIV</td>\n",
       "      <td>ALL</td>\n",
       "      <td>58011.71</td>\n",
       "      <td>0.00%</td>\n",
       "    </tr>\n",
       "    <tr>\n",
       "      <th>3</th>\n",
       "      <td>1995</td>\n",
       "      <td>PRK</td>\n",
       "      <td>CMR</td>\n",
       "      <td>ALL</td>\n",
       "      <td>97669.00</td>\n",
       "      <td>0.00%</td>\n",
       "    </tr>\n",
       "    <tr>\n",
       "      <th>4</th>\n",
       "      <td>1995</td>\n",
       "      <td>PRK</td>\n",
       "      <td>COG</td>\n",
       "      <td>ALL</td>\n",
       "      <td>24018.39</td>\n",
       "      <td>0.00%</td>\n",
       "    </tr>\n",
       "  </tbody>\n",
       "</table>\n",
       "</div>"
      ],
      "text/plain": [
       "   year country_origin_id country_destination_id hs92_product_id  export_val  \\\n",
       "0  1995               PRK                    BFA             ALL    67177.77   \n",
       "1  1995               PRK                    CAF             ALL   514674.15   \n",
       "2  1995               PRK                    CIV             ALL    58011.71   \n",
       "3  1995               PRK                    CMR             ALL    97669.00   \n",
       "4  1995               PRK                    COG             ALL    24018.39   \n",
       "\n",
       "  export_val_pct  \n",
       "0          0.00%  \n",
       "1          0.00%  \n",
       "2          0.00%  \n",
       "3          0.00%  \n",
       "4          0.00%  "
      ]
     },
     "execution_count": 58,
     "metadata": {},
     "output_type": "execute_result"
    }
   ],
   "source": [
    "df = pd.read_csv(\"North Korea imports - Sheet1.csv\")\n",
    "\n",
    "df.head()\n",
    "\n"
   ]
  },
  {
   "cell_type": "code",
   "execution_count": 59,
   "metadata": {},
   "outputs": [
    {
     "data": {
      "text/plain": [
       "1000.0"
      ]
     },
     "execution_count": 59,
     "metadata": {},
     "output_type": "execute_result"
    }
   ],
   "source": [
    "\n",
    "df[\"export_val\"].sum()\n",
    "df[\"export_val\"].max()\n",
    "df[\"export_val\"].min()\n"
   ]
  },
  {
   "cell_type": "code",
   "execution_count": 61,
   "metadata": {},
   "outputs": [
    {
     "data": {
      "text/plain": [
       "year                        int64\n",
       "country_origin_id          object\n",
       "country_destination_id     object\n",
       "hs92_product_id            object\n",
       "export_val                float64\n",
       "export_val_pct             object\n",
       "dtype: object"
      ]
     },
     "execution_count": 61,
     "metadata": {},
     "output_type": "execute_result"
    }
   ],
   "source": [
    "df.dtypes"
   ]
  },
  {
   "cell_type": "code",
   "execution_count": 66,
   "metadata": {},
   "outputs": [
    {
     "data": {
      "text/plain": [
       "POL    21\n",
       "DZA    21\n",
       "COL    21\n",
       "NER    21\n",
       "EST    21\n",
       "NLD    21\n",
       "ESP    21\n",
       "THA    21\n",
       "FRA    21\n",
       "IND    21\n",
       "BOL    21\n",
       "TZA    21\n",
       "MUS    21\n",
       "HKG    21\n",
       "ITA    21\n",
       "BRA    21\n",
       "URY    21\n",
       "GBR    21\n",
       "FIN    21\n",
       "CHN    21\n",
       "BLX    21\n",
       "CZE    21\n",
       "SVK    21\n",
       "CHL    21\n",
       "DNK    21\n",
       "SWE    21\n",
       "DEU    21\n",
       "IRL    21\n",
       "UGA    21\n",
       "MDG    21\n",
       "       ..\n",
       "ISR     6\n",
       "NZL     5\n",
       "KWT     5\n",
       "MDV     5\n",
       "TON     5\n",
       "PHL     4\n",
       "MAR     4\n",
       "NPL     4\n",
       "SLB     4\n",
       "KOR     4\n",
       "IRN     4\n",
       "VUT     4\n",
       "BMU     4\n",
       "BTN     3\n",
       "ARE     3\n",
       "OMN     3\n",
       "NOR     3\n",
       "TLS     2\n",
       "ARG     2\n",
       "GNB     2\n",
       "MSR     2\n",
       "COK     1\n",
       "ERI     1\n",
       "AFG     1\n",
       "SLE     1\n",
       "AGO     1\n",
       "TCD     1\n",
       "PLW     1\n",
       "XXB     1\n",
       "ISL     1\n",
       "Name: country_destination_id, Length: 174, dtype: int64"
      ]
     },
     "execution_count": 66,
     "metadata": {},
     "output_type": "execute_result"
    }
   ],
   "source": [
    "df[\"country_destination_id\"].value_counts()\n"
   ]
  },
  {
   "cell_type": "code",
   "execution_count": null,
   "metadata": {
    "collapsed": true
   },
   "outputs": [],
   "source": []
  }
 ],
 "metadata": {
  "kernelspec": {
   "display_name": "Python 3",
   "language": "python",
   "name": "python3"
  },
  "language_info": {
   "codemirror_mode": {
    "name": "ipython",
    "version": 3
   },
   "file_extension": ".py",
   "mimetype": "text/x-python",
   "name": "python",
   "nbconvert_exporter": "python",
   "pygments_lexer": "ipython3",
   "version": "3.6.1"
  }
 },
 "nbformat": 4,
 "nbformat_minor": 2
}
